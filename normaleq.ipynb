{
 "cells": [
  {
   "cell_type": "code",
   "execution_count": 21,
   "metadata": {
    "collapsed": false
   },
   "outputs": [
    {
     "name": "stdout",
     "output_type": "stream",
     "text": [
      "[[  5.15319698e-09]\n",
      " [ -8.12576673e-11]\n",
      " [ -1.90993887e-11]\n",
      " [  7.95807864e-13]\n",
      " [  4.86188867e-12]\n",
      " [ -1.33226763e-14]\n",
      " [  2.62900812e-13]\n",
      " [  5.20230969e-10]]\n",
      "Holy chupacabra!\n"
     ]
    }
   ],
   "source": [
    "import numpy as np\n",
    "from numpy import ones, hstack, matrix, divide, multiply\n",
    "from numpy.random import random as nprandom\n",
    "\n",
    "M = hstack((ones((100, 1)), (100 * nprandom((100, 4)))))\n",
    "X = M[:, 1:2]\n",
    "Y = M[:, 2:3]\n",
    "Z = M[:, 3:4]\n",
    "\n",
    "# F = 3x²/y - 17xy + 8/z + 0w - 13\n",
    "\n",
    "X2_Y = divide(multiply(X, X), Y)\n",
    "XY = multiply(X, Y)\n",
    "_Z = 1 / Z\n",
    "\n",
    "M2 = hstack((M, X2_Y, XY, _Z))\n",
    "C = np.matrix('-13; 0; 0; 0; 0; 3; -17; 8')\n",
    "\n",
    "F = M2 * C  # correct values of F\n",
    "\n",
    "TETA = np.linalg.inv(M2.transpose().dot(M2)).dot(M2.transpose()).dot(F)\n",
    "# TETA = inverse(M2' * M2) * M2' * F; # normal equation\n",
    "\n",
    "print TETA - C\n",
    "print 'Holy chupacabra!'"
   ]
  }
 ],
 "metadata": {
  "kernelspec": {
   "display_name": "Python 2",
   "language": "python",
   "name": "python2"
  },
  "language_info": {
   "codemirror_mode": {
    "name": "ipython",
    "version": 2.0
   },
   "file_extension": ".py",
   "mimetype": "text/x-python",
   "name": "python",
   "nbconvert_exporter": "python",
   "pygments_lexer": "ipython2",
   "version": "2.7.11+"
  }
 },
 "nbformat": 4,
 "nbformat_minor": 0
}