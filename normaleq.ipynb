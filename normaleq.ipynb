{
 "cells": [
  {
   "cell_type": "code",
   "execution_count": 4,
   "metadata": {},
   "outputs": [
    {
     "name": "stdout",
     "output_type": "stream",
     "text": [
      "[ 1.  1.  1.  1.  1.  1.  1.  1.  1.  1.  1.  1.  1.  1.  1.  1.  1.  1.\n  1.  1.  1.  1.  1.  1.  1.  1.  1.  1.  1.  1.  1.  1.  1.  1.  1.  1.\n  1.  1.  1.  1.  1.  1.  1.  1.  1.  1.  1.  1.  1.  1.  1.  1.  1.  1.\n  1.  1.  1.  1.  1.  1.  1.  1.  1.  1.  1.  1.  1.  1.  1.  1.  1.  1.\n  1.  1.  1.  1.  1.  1.  1.  1.  1.  1.  1.  1.  1.  1.  1.  1.  1.  1.\n  1.  1.  1.  1.  1.  1.  1.  1.  1.  1.]\n"
     ]
    }
   ],
   "source": [
    "import numpy as np\n",
    "\n",
    "M = np.hstack((np.ones((100,1)), (100 * np.random.random((100, 4)))))\n",
    "# print M\n",
    "print M[:, 0].transpose()\n",
    "# X = M(:,2);\n",
    "# Y = M(:,3);\n",
    "# Z = M(:,4);\n",
    "# \n",
    "# # F = 3x²/y - 17xy + 8/z + 0w - 13\n",
    "# \n",
    "# X2_Y = X .* X ./ Y;\n",
    "# XY = X .* Y;\n",
    "# _Z = 1 ./ Z;\n",
    "# \n",
    "# M2 = [M,X2_Y,XY,_Z];\n",
    "# C = [-13; 0;0;0;0; 3; -17; 8];\n",
    "# F = M2 * C; #correct values of F\n",
    "# \n",
    "# TETA = inverse(M2' * M2) * M2' * F; # normal equation\n",
    "# \n",
    "# TETA - C # predicted - real (holy chupacabra!)"
   ]
  },
  {
   "cell_type": "code",
   "execution_count": null,
   "metadata": {},
   "outputs": [],
   "source": [
    ""
   ]
  },
  {
   "cell_type": "code",
   "execution_count": null,
   "outputs": [],
   "source": [
    ""
   ]
  }
 ],
 "metadata": {},
 "nbformat": 4,
 "nbformat_minor": 0
}